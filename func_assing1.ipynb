{
 "cells": [
  {
   "cell_type": "code",
   "execution_count": 2,
   "id": "cf64ac1e-a05a-420c-bcac-65a869b5c497",
   "metadata": {},
   "outputs": [
    {
     "data": {
      "text/plain": [
       "[1, 3, 5, 7, 9, 11, 13, 15, 17, 19, 21, 23, 25]"
      ]
     },
     "execution_count": 2,
     "metadata": {},
     "output_type": "execute_result"
    }
   ],
   "source": [
    "#q1 \"def keyword is use to define a function\"\n",
    "def func():\n",
    "    l=[]\n",
    "    for i in range(1,26,2):\n",
    "        l.append(i)\n",
    "    return l\n",
    "func()"
   ]
  },
  {
   "cell_type": "code",
   "execution_count": 3,
   "id": "c11ce33a-4310-44f7-8341-3e4d588c2d59",
   "metadata": {},
   "outputs": [
    {
     "data": {
      "text/plain": [
       "180"
      ]
     },
     "execution_count": 3,
     "metadata": {},
     "output_type": "execute_result"
    }
   ],
   "source": [
    "#q2 *args and **krgs is used in function where the number of arguments to be passed is variable \n",
    "def multi(*args):\n",
    "    s=1\n",
    "    for i in args:\n",
    "        s=s*i\n",
    "    return s\n",
    "multi(5,6,3,2)"
   ]
  },
  {
   "cell_type": "code",
   "execution_count": 2,
   "id": "74049620-286b-45b7-a1f3-49cd301a58c4",
   "metadata": {},
   "outputs": [
    {
     "name": "stdout",
     "output_type": "stream",
     "text": [
      "2\n",
      "4\n",
      "6\n",
      "8\n",
      "10\n"
     ]
    }
   ],
   "source": [
    "'''q3)iterator is a obj that can be iterateable or it value can be transeversed\n",
    "iterator can be a list tuple string \n",
    "iterator object can be initialise with \"iter()\" function'''\n",
    "\n",
    "l=[2, 4, 6, 8, 10, 12, 14,16, 18, 20]\n",
    "l1=iter(l)\n",
    "for i in range (5):\n",
    "    print(next(l1))\n"
   ]
  },
  {
   "cell_type": "code",
   "execution_count": 4,
   "id": "464c4b70-1964-4cf5-844f-d230eff7e10d",
   "metadata": {},
   "outputs": [
    {
     "name": "stdout",
     "output_type": "stream",
     "text": [
      "0\n",
      "1\n",
      "2\n",
      "3\n",
      "4\n"
     ]
    }
   ],
   "source": [
    "'''q4) generator function is function use to generate data as per requirement for exapmle range() and its data can be iterable\n",
    "        yeild is use to make a generator function  and it give data from the function to the main code or variable '''\n",
    "def range_1(n): #function to generate numbers similar to range \n",
    "    a=0\n",
    "    while True:\n",
    "        if a<n:\n",
    "            yield a\n",
    "            a=a+1\n",
    "        else :\n",
    "            break\n",
    "for i in range_1(5):\n",
    "    print(i)\n",
    "    \n",
    "    \n",
    "    "
   ]
  },
  {
   "cell_type": "code",
   "execution_count": null,
   "id": "6db83252-427d-4e5c-9aed-06880cf3713f",
   "metadata": {},
   "outputs": [],
   "source": [
    "#q5)\n",
    "def primes():\n",
    "    yield 2\n",
    "    primes_list = [2]\n",
    "    for i in range(3, 1000):\n",
    "        is_prime = True\n",
    "        for prime in primes_list:\n",
    "            if i % prime == 0:\n",
    "                is_prime = False\n",
    "                break\n",
    "        if is_prime:\n",
    "            primes_list.append(i)\n",
    "            yield i\n",
    "\n",
    "prime = primes()\n",
    "\n",
    "for i in range(20):\n",
    "    print(next(prime))"
   ]
  },
  {
   "cell_type": "code",
   "execution_count": 20,
   "id": "16cbcdf5-5b65-4417-b712-f26e566a7bf2",
   "metadata": {},
   "outputs": [
    {
     "name": "stdout",
     "output_type": "stream",
     "text": [
      "0\n",
      "1\n",
      "1\n",
      "2\n",
      "3\n",
      "5\n",
      "8\n",
      "13\n",
      "21\n",
      "34\n"
     ]
    }
   ],
   "source": [
    "#q6)\n",
    "def feb():\n",
    "    a=0\n",
    "    b=1\n",
    "    while True :\n",
    "        yield a\n",
    "        a,b=b,a+b\n",
    "feb1=feb()\n",
    "for i in range(10):\n",
    "    print(next(feb1))"
   ]
  },
  {
   "cell_type": "code",
   "execution_count": 22,
   "id": "e26710ad-6c16-45b6-9368-1cb2ea25efcd",
   "metadata": {},
   "outputs": [
    {
     "name": "stdout",
     "output_type": "stream",
     "text": [
      "['p', 'w', 's', 'k', 'i', 'l', 'l', 's']\n"
     ]
    }
   ],
   "source": [
    "#q7)\n",
    "s=iter('pwskills')\n",
    "l=[]\n",
    "for i in range(0,8):\n",
    "    l.append(next(s))\n",
    "print(l)\n"
   ]
  },
  {
   "cell_type": "code",
   "execution_count": 25,
   "id": "f740d8ac-5569-42e1-b53b-e99daf420fb8",
   "metadata": {},
   "outputs": [
    {
     "name": "stdout",
     "output_type": "stream",
     "text": [
      "[1, 3, 5, 7, 9, 11, 13, 15, 17, 19, 21, 23, 25, 27, 29, 31, 33, 35, 37, 39, 41, 43, 45, 47, 49, 51, 53, 55, 57, 59, 61, 63, 65, 67, 69, 71, 73, 75, 77, 79, 81, 83, 85, 87, 89, 91, 93, 95, 97, 99]\n"
     ]
    }
   ],
   "source": [
    "#q9)\n",
    "l=[]\n",
    "for i in range(1,101):\n",
    "    l.append(i)\n",
    "l1=list(filter(lambda x : x%2 != 0 ,l))\n",
    "print(l1)"
   ]
  },
  {
   "cell_type": "code",
   "execution_count": null,
   "id": "3a4ea3f1-7967-472f-bb0d-8669b73d8573",
   "metadata": {},
   "outputs": [],
   "source": []
  },
  {
   "cell_type": "code",
   "execution_count": null,
   "id": "fcba6ee7-8bfc-4530-b0ee-f3e570d37455",
   "metadata": {},
   "outputs": [],
   "source": []
  }
 ],
 "metadata": {
  "kernelspec": {
   "display_name": "Python 3 (ipykernel)",
   "language": "python",
   "name": "python3"
  },
  "language_info": {
   "codemirror_mode": {
    "name": "ipython",
    "version": 3
   },
   "file_extension": ".py",
   "mimetype": "text/x-python",
   "name": "python",
   "nbconvert_exporter": "python",
   "pygments_lexer": "ipython3",
   "version": "3.10.8"
  }
 },
 "nbformat": 4,
 "nbformat_minor": 5
}
