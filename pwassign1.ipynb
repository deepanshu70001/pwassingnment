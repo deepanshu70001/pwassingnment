{
 "cells": [
  {
   "cell_type": "code",
   "execution_count": 1,
   "id": "5c89797d-51e7-4539-b8ce-e6cb7e4efed4",
   "metadata": {},
   "outputs": [],
   "source": [
    "#q1\n",
    "a=\"string\"\n",
    "b=[\"l\",\"i\",\"s\",\"t\"]\n",
    "c=43.334\n",
    "d=(\"t\",\"u\",\"p\",\"p\",\"l\",\"e\")\n"
   ]
  },
  {
   "cell_type": "markdown",
   "id": "1d0a3366-d3f2-43d8-b90a-da60cbdc8eef",
   "metadata": {},
   "source": [
    "q2)\n",
    "1)str\n",
    "2)str\n",
    "3)list\n",
    "4)int\n",
    "\n"
   ]
  },
  {
   "cell_type": "code",
   "execution_count": 2,
   "id": "7a928b52-cb2f-456d-af9e-549d9addea3a",
   "metadata": {},
   "outputs": [
    {
     "data": {
      "text/plain": [
       "1.25"
      ]
     },
     "execution_count": 2,
     "metadata": {},
     "output_type": "execute_result"
    }
   ],
   "source": [
    "#q3)\n",
    "''' \"/\" is use for divison'''\n",
    "5/4\n"
   ]
  },
  {
   "cell_type": "code",
   "execution_count": 3,
   "id": "2405da5e-1fc6-436d-a3cc-5f15b712816a",
   "metadata": {},
   "outputs": [
    {
     "data": {
      "text/plain": [
       "1"
      ]
     },
     "execution_count": 3,
     "metadata": {},
     "output_type": "execute_result"
    }
   ],
   "source": [
    "'''  \"%\" is use to get remainder'''\n",
    "5%4\n"
   ]
  },
  {
   "cell_type": "code",
   "execution_count": 4,
   "id": "bd1593ba-7386-4d74-9390-cda83e417cb6",
   "metadata": {},
   "outputs": [
    {
     "data": {
      "text/plain": [
       "1"
      ]
     },
     "execution_count": 4,
     "metadata": {},
     "output_type": "execute_result"
    }
   ],
   "source": [
    "'''  \"//\"  is use for floor divison'''\n",
    "5//4\n"
   ]
  },
  {
   "cell_type": "code",
   "execution_count": 5,
   "id": "3e6c4d59-e21a-4b9d-929c-38db82ab4fda",
   "metadata": {},
   "outputs": [
    {
     "data": {
      "text/plain": [
       "625"
      ]
     },
     "execution_count": 5,
     "metadata": {},
     "output_type": "execute_result"
    }
   ],
   "source": [
    "'''\"**\" is use for multiplying a number exponantially'''\n",
    "5**4\n"
   ]
  },
  {
   "cell_type": "code",
   "execution_count": 6,
   "id": "ea956ced-28d5-45c9-8791-d0a71f5aaf10",
   "metadata": {},
   "outputs": [
    {
     "name": "stdout",
     "output_type": "stream",
     "text": [
      "343\n",
      "<class 'int'>\n",
      "pw\n",
      "<class 'str'>\n",
      "44.32\n",
      "<class 'float'>\n",
      "44\n",
      "<class 'int'>\n",
      "gff\n",
      "<class 'str'>\n",
      "True\n",
      "<class 'bool'>\n",
      "[345, 343, 5]\n",
      "<class 'list'>\n",
      "('abcd', 'efgh')\n",
      "<class 'tuple'>\n",
      "False\n",
      "<class 'bool'>\n",
      "None\n",
      "<class 'NoneType'>\n"
     ]
    }
   ],
   "source": [
    "#q4)\n",
    "l=[343,\"pw\",44.32,44,\"gff\",True,[345,343,5],(\"abcd\",\"efgh\"),False,None]\n",
    "for i in l:\n",
    "    print(i)\n",
    "    print(type(i))"
   ]
  },
  {
   "cell_type": "code",
   "execution_count": 7,
   "id": "e3c2036e-367b-40d4-8935-e13073c11373",
   "metadata": {},
   "outputs": [
    {
     "name": "stdin",
     "output_type": "stream",
     "text": [
      "enter num1 32\n",
      "enter num2 2\n"
     ]
    },
    {
     "name": "stdout",
     "output_type": "stream",
     "text": [
      "the b=number is divisible 5 times\n"
     ]
    }
   ],
   "source": [
    "#q5)\n",
    "a=int(input(\"enter num1\"))\n",
    "b=int(input(\"enter num2\"))\n",
    "c=0 \n",
    "while a%b==0:\n",
    "    c=c+1\n",
    "    a=a/b\n",
    "print(\"the b=number is divisible\",c,\"times\")\n",
    "    "
   ]
  },
  {
   "cell_type": "code",
   "execution_count": 9,
   "id": "2b77456b-53f0-4f59-b99e-3be89d1c41a8",
   "metadata": {},
   "outputs": [
    {
     "name": "stdout",
     "output_type": "stream",
     "text": [
      "53 is not divisible by 3\n",
      "54 is divisible by 3\n",
      "22 is not divisible by 3\n",
      "31 is not divisible by 3\n",
      "33 is divisible by 3\n",
      "56 is not divisible by 3\n",
      "78 is divisible by 3\n",
      "44 is not divisible by 3\n",
      "321 is divisible by 3\n",
      "432 is divisible by 3\n",
      "768 is divisible by 3\n",
      "387 is divisible by 3\n",
      "643 is not divisible by 3\n",
      "653 is not divisible by 3\n",
      "636 is divisible by 3\n",
      "36 is divisible by 3\n",
      "63 is divisible by 3\n",
      "8 is not divisible by 3\n",
      "4567 is not divisible by 3\n",
      "643 is not divisible by 3\n",
      "65 is not divisible by 3\n",
      "21 is divisible by 3\n",
      "4456 is not divisible by 3\n",
      "7543 is not divisible by 3\n",
      "463 is not divisible by 3\n"
     ]
    }
   ],
   "source": [
    "#q6)\n",
    "l=[53,54,22,31,33,56,78,44,321,432,768,387,643,653,636,36,63,8,4567,643,65,21,4456,7543,463]\n",
    "for i in l:\n",
    "    if i%3==0:\n",
    "        print(i,\"is divisible by 3\")\n",
    "    else:\n",
    "        print(i,\"is not divisible by 3\")"
   ]
  },
  {
   "cell_type": "markdown",
   "id": "8c7e70d3-dfd4-4f61-89e6-190320574555",
   "metadata": {},
   "source": [
    "q7)\n",
    "mutable data can mutated or can be change or modify whenever needed\n",
    "eg list dict\n",
    "immutable data canot be change after creation it can only be read we can't modify it later\n",
    "eg tuple str"
   ]
  }
 ],
 "metadata": {
  "kernelspec": {
   "display_name": "Python 3 (ipykernel)",
   "language": "python",
   "name": "python3"
  },
  "language_info": {
   "codemirror_mode": {
    "name": "ipython",
    "version": 3
   },
   "file_extension": ".py",
   "mimetype": "text/x-python",
   "name": "python",
   "nbconvert_exporter": "python",
   "pygments_lexer": "ipython3",
   "version": "3.10.8"
  }
 },
 "nbformat": 4,
 "nbformat_minor": 5
}
